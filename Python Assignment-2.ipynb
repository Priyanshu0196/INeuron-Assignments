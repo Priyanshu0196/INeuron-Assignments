{
 "cells": [
  {
   "attachments": {},
   "cell_type": "raw",
   "metadata": {},
   "source": [
    "# 1. Create the below pattern using nested for loop in Python.\n",
    "\n",
    "*\n",
    "**\n",
    "***\n",
    "****\n",
    "*****\n",
    "****\n",
    "***\n",
    "**\n",
    "*"
   ]
  },
  {
   "cell_type": "code",
   "execution_count": 126,
   "metadata": {},
   "outputs": [
    {
     "name": "stdout",
     "output_type": "stream",
     "text": [
      "*\r\n",
      "**\r\n",
      "***\r\n",
      "****\r\n",
      "*****\r\n",
      "****\r\n",
      "***\r\n",
      "**\r\n",
      "*\r\n",
      "\r\n"
     ]
    }
   ],
   "source": [
    "i=0\n",
    "j=0\n",
    "z=5\n",
    "for i in range(z):\n",
    "    for j in range(i+1):\n",
    "        print('*',end='')               \n",
    "    print(\"\\r\")    \n",
    "for i in range (z,0,-1):\n",
    "    for j in range(i-1):\n",
    "        print('*',end='')               \n",
    "    print(\"\\r\")               "
   ]
  },
  {
   "cell_type": "markdown",
   "metadata": {},
   "source": [
    "# 2. Write a Python program to reverse a word after accepting the input from the user.Sample Output:\n",
    "Input word: ineuron\n",
    "Output: norueni\n"
   ]
  },
  {
   "cell_type": "code",
   "execution_count": 124,
   "metadata": {},
   "outputs": [
    {
     "name": "stdout",
     "output_type": "stream",
     "text": [
      "Enter the word:ineuron\n",
      "norueni"
     ]
    }
   ],
   "source": [
    "x=input('Enter the word:')\n",
    "y=len(x)\n",
    "for i in range(y,0,-1):\n",
    "    i=i-1   \n",
    "    print(x[i],end='')         "
   ]
  }
 ],
 "metadata": {
  "kernelspec": {
   "display_name": "Python 3",
   "language": "python",
   "name": "python3"
  },
  "language_info": {
   "codemirror_mode": {
    "name": "ipython",
    "version": 3
   },
   "file_extension": ".py",
   "mimetype": "text/x-python",
   "name": "python",
   "nbconvert_exporter": "python",
   "pygments_lexer": "ipython3",
   "version": "3.6.5"
  }
 },
 "nbformat": 4,
 "nbformat_minor": 2
}
